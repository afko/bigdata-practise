{
 "cells": [
  {
   "cell_type": "markdown",
   "metadata": {},
   "source": [
    "# 1. Exercise 61: Average "
   ]
  },
  {
   "cell_type": "code",
   "execution_count": 12,
   "metadata": {},
   "outputs": [
    {
     "name": "stdout",
     "output_type": "stream",
     "text": [
      "숫자를 입력해주세요: 0\n",
      "첫번째 숫자로 0을 입력하셨습니다.\n",
      "[]\n",
      "숫자를 입력해주세요: 1\n",
      "[1]\n",
      "숫자를 입력해주세요: 2\n",
      "[1, 2]\n",
      "숫자를 입력해주세요: 3\n",
      "[1, 2, 3]\n",
      "숫자를 입력해주세요: 3\n",
      "[1, 2, 3, 3]\n",
      "숫자를 입력해주세요: 0\n",
      "[1, 2, 3, 3]\n",
      "2.25\n"
     ]
    }
   ],
   "source": [
    "num_list = []\n",
    "while True:\n",
    "    try:\n",
    "        num = int(input(\"숫자를 입력해주세요: \"))\n",
    "        num_list.append(num)\n",
    "        if num_list[0] == 0:\n",
    "            print(\"첫번째 숫자로 0을 입력하셨습니다.\")\n",
    "            num_list.remove(num_list[0])\n",
    "        elif num == 0:\n",
    "            num_list.remove(num_list[len(num_list)-1])\n",
    "            break\n",
    "        print(num_list)\n",
    "    except:\n",
    "        \"숫자를 입력해주세요.\"\n",
    "print(num_list)\n",
    "print(sum(num_list)/len(num_list))"
   ]
  },
  {
   "cell_type": "markdown",
   "metadata": {},
   "source": [
    "# 2. Exercise 63: Temperature Conversion Table "
   ]
  },
  {
   "cell_type": "code",
   "execution_count": 18,
   "metadata": {},
   "outputs": [
    {
     "name": "stdout",
     "output_type": "stream",
     "text": [
      "Fahrenheit:  32.0  and  Celsius:  0\n",
      "Fahrenheit:  50.0  and  Celsius:  10\n",
      "Fahrenheit:  68.0  and  Celsius:  20\n",
      "Fahrenheit:  86.0  and  Celsius:  30\n",
      "Fahrenheit:  104.0  and  Celsius:  40\n",
      "Fahrenheit:  122.0  and  Celsius:  50\n",
      "Fahrenheit:  140.0  and  Celsius:  60\n",
      "Fahrenheit:  158.0  and  Celsius:  70\n",
      "Fahrenheit:  176.0  and  Celsius:  80\n",
      "Fahrenheit:  194.0  and  Celsius:  90\n",
      "Fahrenheit:  212.0  and  Celsius:  100\n"
     ]
    }
   ],
   "source": [
    "#  (50°F - 32) x .5556 = 10°C\n",
    "\n",
    "for i in range(0,101,10):\n",
    "    f = i*(9/5) + 32\n",
    "    c = i\n",
    "    print(\"Fahrenheit: \", f , \" and \", \"Celsius: \", c )"
   ]
  },
  {
   "cell_type": "markdown",
   "metadata": {},
   "source": [
    "# 3. Exercise 66: Compute a Grade Point Average "
   ]
  },
  {
   "cell_type": "code",
   "execution_count": 24,
   "metadata": {},
   "outputs": [
    {
     "name": "stdout",
     "output_type": "stream",
     "text": [
      "Input your Grade: F\n",
      "Input your Grade: F\n",
      "Input your Grade: F\n",
      "Input your Grade: D\n",
      "Input your Grade: \n",
      "[0, 0, 0, 1.0]\n",
      "0.25\n"
     ]
    }
   ],
   "source": [
    "score_list = []\n",
    "while True:\n",
    "    grade = input(\"Input your Grade: \")\n",
    "    if grade == \"A+\":\n",
    "        score_list.append(4.0)\n",
    "    elif grade == \"A\":\n",
    "        score_list.append(4.0)\n",
    "    elif grade == \"A-\":\n",
    "        score_list.append(3.7)\n",
    "    elif grade == \"B+\":\n",
    "        score_list.append(3.3)\n",
    "    elif grade == \"B\":\n",
    "        score_list.append(3.0)\n",
    "    elif grade == \"B-\":\n",
    "        score_list.append(2.7)\n",
    "    elif grade == \"C+\":\n",
    "        score_list.append(2.3)\n",
    "    elif grade == \"C\":\n",
    "        score_list.append(2.0)\n",
    "    elif grade == \"C-\":\n",
    "        score_list.append(1.7)\n",
    "    elif grade == \"D+\":\n",
    "        score_list.append(1.3)\n",
    "    elif grade == \"D\":\n",
    "        score_list.append(1.0)\n",
    "    elif grade == \"F\":\n",
    "        score_list.append(0)\n",
    "    elif grade == \"\":\n",
    "        break\n",
    "print(score_list)\n",
    "print(sum(score_list)/len(score_list))"
   ]
  },
  {
   "cell_type": "markdown",
   "metadata": {},
   "source": [
    "# 4. Exercise 67: Admission Price "
   ]
  },
  {
   "cell_type": "code",
   "execution_count": 5,
   "metadata": {},
   "outputs": [
    {
     "name": "stdout",
     "output_type": "stream",
     "text": [
      "input your age: 12\n",
      "input your age: 0\n",
      "input your age: 25\n",
      "input your age: 67\n",
      "input your age: \n",
      "[14.0, 0.0, 23.0, 18.0]\n",
      "$ 55.00\n"
     ]
    }
   ],
   "source": [
    "age_list = []\n",
    "while True:\n",
    "    try:\n",
    "        age = input(\"input your age: \")\n",
    "        if age == \"\":\n",
    "            break\n",
    "        \n",
    "        age_int = int(age)\n",
    "        if age_int < 3:\n",
    "            age_list.append(0.00)\n",
    "        elif age_int>=3 and age_int< 13:\n",
    "            age_list.append(14.00)\n",
    "        elif age_int>=65:\n",
    "            age_list.append(18.00)\n",
    "        else:\n",
    "            age_list.append(23.00)\n",
    "        \n",
    "    except:\n",
    "        print(\"input age as a number\")\n",
    "print(age_list)\n",
    "print(\"$\", \"%.2f\" % sum(age_list))"
   ]
  },
  {
   "cell_type": "markdown",
   "metadata": {},
   "source": [
    "# 5. Exercise 72: Is a String a Palindrome? "
   ]
  },
  {
   "cell_type": "code",
   "execution_count": 10,
   "metadata": {},
   "outputs": [
    {
     "name": "stdout",
     "output_type": "stream",
     "text": [
      "input a word: hannah\n",
      "['h', 'a', 'n', 'n', 'a', 'h']\n",
      "['h', 'a', 'n', 'n', 'a', 'h']\n",
      "This word is Palindrome\n"
     ]
    }
   ],
   "source": [
    "word = input(\"input a word: \")\n",
    "\n",
    "pal_word = []\n",
    "pal_word.extend(word)\n",
    "\n",
    "check_word = []\n",
    "for i in pal_word[::-1]:\n",
    "    check_word.append(i)\n",
    "\n",
    "if pal_word == check_word:\n",
    "    print(pal_word)\n",
    "    print(check_word)\n",
    "    print(\"This word is Palindrome\")\n",
    "else:\n",
    "    print(pal_word)\n",
    "    print(check_word)\n",
    "    print(\"This word is not Palindrome\")\n"
   ]
  },
  {
   "cell_type": "markdown",
   "metadata": {},
   "source": [
    "# 6. Exercise 74: Multiplication Table"
   ]
  },
  {
   "cell_type": "code",
   "execution_count": 59,
   "metadata": {},
   "outputs": [
    {
     "name": "stdout",
     "output_type": "stream",
     "text": [
      "  1 2 3 4 5 6 7 8 9 10 \n",
      "1 1 2 3 4 5 6 7 8 9 10 \n",
      "2 2 4 6 8 10 12 14 16 18 20 \n",
      "3 3 6 9 12 15 18 21 24 27 30 \n",
      "4 4 8 12 16 20 24 28 32 36 40 \n",
      "5 5 10 15 20 25 30 35 40 45 50 \n",
      "6 6 12 18 24 30 36 42 48 54 60 \n",
      "7 7 14 21 28 35 42 49 56 63 70 \n",
      "8 8 16 24 32 40 48 56 64 72 80 \n",
      "9 9 18 27 36 45 54 63 72 81 90 \n",
      "10 10 20 30 40 50 60 70 80 90 100 \n"
     ]
    }
   ],
   "source": [
    "for i in range(0, 11):\n",
    "    if i == 0:\n",
    "        print(\" \", end = \" \")\n",
    "    else:\n",
    "        print(i, end = \" \")\n",
    "    for j in range(1, 11):\n",
    "        if i == 0:\n",
    "            print(\"\", end =\"\")\n",
    "            print(j, end = \" \")\n",
    "        else:\n",
    "            print(\"%.0f\" % int(i*j), end = \" \")\n",
    "    print(\"\")"
   ]
  },
  {
   "cell_type": "markdown",
   "metadata": {},
   "source": [
    "# 7. Exercise 75: Greatest Common Divisor "
   ]
  },
  {
   "cell_type": "code",
   "execution_count": 106,
   "metadata": {},
   "outputs": [
    {
     "name": "stdout",
     "output_type": "stream",
     "text": [
      "input a number1: 2515\n",
      "input a number2: 345\n",
      "d:  344\n",
      "0 0\n",
      "5  is the greatest common divisor\n"
     ]
    }
   ],
   "source": [
    "a = int(input(\"input a number1: \"))\n",
    "b = int(input(\"input a number2: \"))\n",
    "\n",
    "d = a-1 if a < b else b-1\n",
    "\n",
    "print(\"d: \", d)\n",
    "\n",
    "while int(a % d) != 0 or int(b % d) != 0:\n",
    "    d = d - 1\n",
    "else:\n",
    "    print(a%d, b%d)\n",
    "    print(d, \" is the greatest common divisor\")\n",
    "\n"
   ]
  },
  {
   "cell_type": "markdown",
   "metadata": {},
   "source": [
    "# 8. Exercise 77: Binary to Decimal"
   ]
  },
  {
   "cell_type": "code",
   "execution_count": 128,
   "metadata": {},
   "outputs": [
    {
     "name": "stdout",
     "output_type": "stream",
     "text": [
      "input a binary number: 100000\n",
      "Decimal of  100000  is  32\n"
     ]
    }
   ],
   "source": [
    "binary = input(\"input a binary number: \")\n",
    "bl = []\n",
    "bl.extend(binary)\n",
    "\n",
    "count = 0\n",
    "decimal = []\n",
    "for i in bl[::-1]:\n",
    "    decimal.append(int(i)*(2**count))\n",
    "    count += 1\n",
    "print(\"Decimal of \",binary,\" is \", sum(decimal))"
   ]
  },
  {
   "cell_type": "markdown",
   "metadata": {},
   "source": [
    "# 9. Exercise 78: Decimal to Binary "
   ]
  },
  {
   "cell_type": "code",
   "execution_count": 1,
   "metadata": {},
   "outputs": [
    {
     "name": "stdout",
     "output_type": "stream",
     "text": [
      "input any decimal number: 32\n",
      "32\n",
      "16\n",
      "8\n",
      "4\n",
      "2\n",
      "100000\n"
     ]
    }
   ],
   "source": [
    "q = int(input(\"input any decimal number: \"))\n",
    "result = \"\"\n",
    "\n",
    "while q != 0:\n",
    "    print(q)\n",
    "    r = q % 2 \n",
    "    q = q // 2\n",
    "    result = str(r) + result\n",
    "    if q == 1:\n",
    "        result = str(q) + result\n",
    "        break\n",
    "print(result)"
   ]
  },
  {
   "cell_type": "markdown",
   "metadata": {},
   "source": [
    "# 10. Exercise 80: Coin Flip Simulation"
   ]
  },
  {
   "cell_type": "code",
   "execution_count": 1,
   "metadata": {},
   "outputs": [],
   "source": [
    "import random"
   ]
  },
  {
   "cell_type": "code",
   "execution_count": 2,
   "metadata": {},
   "outputs": [
    {
     "name": "stdout",
     "output_type": "stream",
     "text": [
      "['T', 'H', 'H', 'H']\n",
      "['T', 'H', 'H', 'H']\n",
      "['H', 'T', 'H', 'H', 'H']\n",
      "['T', 'T', 'T']\n",
      "['H', 'T', 'H', 'H', 'T', 'T', 'H', 'H', 'T', 'T', 'H', 'H', 'T', 'T', 'T']\n",
      "['H', 'T', 'H', 'T', 'T', 'H', 'T', 'T', 'T']\n",
      "['T', 'H', 'H', 'H']\n",
      "['H', 'H', 'H']\n",
      "['H', 'T', 'H', 'H', 'H']\n",
      "['H', 'H', 'T', 'H', 'H', 'T', 'T', 'H', 'T', 'H', 'H', 'H']\n",
      "6.4\n"
     ]
    }
   ],
   "source": [
    "temp_list = []\n",
    "flip_list = []\n",
    "count = 0\n",
    "\n",
    "while True:\n",
    "    temp_list.append(\"H\" if random.randint(0,1) is 0 else \"T\")\n",
    "    if len(temp_list) >= 2:\n",
    "        if temp_list[len(temp_list)-1] == temp_list[len(temp_list)-2]:\n",
    "            count += 1\n",
    "        else:\n",
    "            count = 0\n",
    "    if count == 2:\n",
    "        print(temp_list)\n",
    "        count = 0\n",
    "        flip_list.append(len(temp_list))\n",
    "        temp_list = []\n",
    "    if len(flip_list) == 10:\n",
    "        break\n",
    "\n",
    "print(sum(flip_list)/len(flip_list))\n",
    "        "
   ]
  }
 ],
 "metadata": {
  "kernelspec": {
   "display_name": "Python 3",
   "language": "python",
   "name": "python3"
  },
  "language_info": {
   "codemirror_mode": {
    "name": "ipython",
    "version": 3
   },
   "file_extension": ".py",
   "mimetype": "text/x-python",
   "name": "python",
   "nbconvert_exporter": "python",
   "pygments_lexer": "ipython3",
   "version": "3.6.5"
  }
 },
 "nbformat": 4,
 "nbformat_minor": 2
}
