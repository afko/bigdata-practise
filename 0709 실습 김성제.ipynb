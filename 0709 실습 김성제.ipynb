{
 "cells": [
  {
   "cell_type": "markdown",
   "metadata": {},
   "source": [
    "# Exercise 129: Two Dice Simulation"
   ]
  },
  {
   "cell_type": "code",
   "execution_count": 147,
   "metadata": {},
   "outputs": [],
   "source": [
    "import random"
   ]
  },
  {
   "cell_type": "code",
   "execution_count": 148,
   "metadata": {},
   "outputs": [],
   "source": [
    "def dice():\n",
    "    expec = {}\n",
    "    for i in range(2,13):\n",
    "        expec[str(i)] = 0\n",
    "    for i in range(1,7):\n",
    "        for j in range(1,7):\n",
    "            expec[str(i+j)] += 1/36\n",
    "    for i in expec.keys():\n",
    "        expec[i] = round(expec[i], 4)*100\n",
    "    \n",
    "    dict_dice = {}\n",
    "    for i in range(2,13):\n",
    "        dict_dice[str(i)] = 0\n",
    "    for i in range(1000):\n",
    "        dict_dice[str(random.randint(1,6) + random.randint(1,6))] += 1\n",
    "    for i in dict_dice.keys():\n",
    "        dict_dice[i] = (round(dict_dice[i]/sum(dict_dice.values()),4))*100\n",
    "    return print(\"Expected: \\n\", expec, \"\\n\", \"Simulated: \\n\", dict_dice)"
   ]
  },
  {
   "cell_type": "code",
   "execution_count": 149,
   "metadata": {},
   "outputs": [
    {
     "name": "stdout",
     "output_type": "stream",
     "text": [
      "Expected: \n",
      " {'2': 2.78, '3': 5.56, '4': 8.33, '5': 11.110000000000001, '6': 13.889999999999999, '7': 16.669999999999998, '8': 13.889999999999999, '9': 11.110000000000001, '10': 8.33, '11': 5.56, '12': 2.78} \n",
      " Simulated: \n",
      " {'2': 3.2, '3': 4.02, '4': 10.36, '5': 13.420000000000002, '6': 16.42, '7': 26.46, '8': 29.67, '9': 26.540000000000003, '10': 29.4, '11': 22.81, '12': 14.13}\n"
     ]
    }
   ],
   "source": [
    "dice()"
   ]
  },
  {
   "cell_type": "markdown",
   "metadata": {},
   "source": [
    "# Exercise 130: Text Messaging"
   ]
  },
  {
   "cell_type": "code",
   "execution_count": 210,
   "metadata": {},
   "outputs": [],
   "source": [
    "def tm(string):\n",
    "    key = {\"1\": [\".\",\",\",\"?\",\"!\",\":\"], \"2\": [\"a\",\"b\",\"c\"], \"3\":[\"d\",\"e\",\"f\"],\\\n",
    "           \"4\": [\"g\", \"h\", \"i\"], \"5\":[\"j\",\"k\",\"l\"], \"6\": [\"m\", \"n\", \"o\"], \\\n",
    "           \"7\": [\"p\", \"q\", \"r\", \"s\"], \"8\": [\"t\", \"u\", \"v\"], \"9\": [\"w\", \"x\", \"y\", \"z\"], \\\n",
    "           \"0\": \" \"}\n",
    "    message = \"\"\n",
    "    for s in string:\n",
    "        for i,j in key.items():\n",
    "            count = 1\n",
    "            for k in j:\n",
    "                if s.lower() == k:\n",
    "                    a = \"\"\n",
    "                    for kk in range(count):\n",
    "                        a = a + i\n",
    "                    message = message + a\n",
    "                    break\n",
    "                count += 1\n",
    "    return message"
   ]
  },
  {
   "cell_type": "code",
   "execution_count": 211,
   "metadata": {},
   "outputs": [
    {
     "data": {
      "text/plain": [
       "'443355555566611966677755531111'"
      ]
     },
     "execution_count": 211,
     "metadata": {},
     "output_type": "execute_result"
    }
   ],
   "source": [
    "tm(\"Hello,World!\")"
   ]
  },
  {
   "cell_type": "markdown",
   "metadata": {},
   "source": [
    "# Exercise 131: Morse Code"
   ]
  },
  {
   "cell_type": "code",
   "execution_count": 228,
   "metadata": {},
   "outputs": [],
   "source": [
    "def morse(string):\n",
    "    morse = {\n",
    "   'A' : '.-', 'J' : '.---', 'S' : '...', '1': '.----',\\\n",
    "   'B' : '-...', 'K' : '-.-', 'T' : '-', '2' : '..---',\\\n",
    "   'C' : '-.-.', 'L' : '.-..', 'U' : '..-', '3' : '...--',\\\n",
    "   'D' : '-..', 'M' : '--', 'V' : '...-', '4' : '....-',\\\n",
    "   'E' : '.', 'N' : '-.', 'W' : '.--', '5' : '.....',\\\n",
    "   'F' : '..-.', 'O' : '---', 'X' : '-..-', '6' : '-....',\\\n",
    "   'G' : '--.', 'P' : '.--.', 'Y' : '-.--', '7' : '--...',\\\n",
    "   'H' : '....', 'Q' : '--.-', 'Z' : '--..', '8' : '---..',\\\n",
    "   'I' : '..', 'R' :'.-.', '0' : '-----', '9' : '----.'\n",
    "    }\n",
    "    li = []\n",
    "    li.extend(string.lower())\n",
    "    result = \"\"\n",
    "    for i in li:\n",
    "        for k,j in morse.items():\n",
    "            if i == k.lower():\n",
    "                result = result + j + \" \"\n",
    "    return result"
   ]
  },
  {
   "cell_type": "code",
   "execution_count": 229,
   "metadata": {},
   "outputs": [
    {
     "data": {
      "text/plain": [
       "'.... . .-.. .-.. --- .-- --- .-. .-.. -.. '"
      ]
     },
     "execution_count": 229,
     "metadata": {},
     "output_type": "execute_result"
    }
   ],
   "source": [
    "morse(\"Hello, World!\")"
   ]
  },
  {
   "cell_type": "markdown",
   "metadata": {},
   "source": [
    "# Exercise 132: Postal Code"
   ]
  },
  {
   "cell_type": "code",
   "execution_count": 216,
   "metadata": {},
   "outputs": [],
   "source": [
    "def postal_codes(string):\n",
    "    postal = {\"A\":\"Newfoundland\", \"B\":\"Nova Scotia\", \"C\":\"Prince Edward Island\", \\\n",
    "             \"E\":\"New Brunswick\", \"G\":\"Quebec\", \"H\":\"Quebec\", \"J\":\"Quebec\", \\\n",
    "             \"K\":\"Ontario\", \"L\":\"Ontario\", \"M\":\"Ontario\", \"N\":\"Ontario\", \"P\":\"Ontario\",\\\n",
    "             \"R\": \"Manitoba\", \"S\":\"Saskatchewan\", \"T\":\"Alberta\", \"V\":\"British Columbia\", \\\n",
    "             \"X\": \"Nunavut or Northwest Territories\", \"Y\":\"Yukon\"}\n",
    "    li = []\n",
    "    li.extend(string)\n",
    "    for i,j in postal.items():\n",
    "        if li[0] == i:\n",
    "            result = j\n",
    "    return result"
   ]
  },
  {
   "cell_type": "code",
   "execution_count": 218,
   "metadata": {},
   "outputs": [
    {
     "data": {
      "text/plain": [
       "'Nunavut or Northwest Territories'"
      ]
     },
     "execution_count": 218,
     "metadata": {},
     "output_type": "execute_result"
    }
   ],
   "source": [
    "postal_codes(\"X0A 1B2\")"
   ]
  },
  {
   "cell_type": "code",
   "execution_count": 219,
   "metadata": {},
   "outputs": [
    {
     "data": {
      "text/plain": [
       "'Alberta'"
      ]
     },
     "execution_count": 219,
     "metadata": {},
     "output_type": "execute_result"
    }
   ],
   "source": [
    "postal_codes(\"T2N 1N4\")"
   ]
  }
 ],
 "metadata": {
  "kernelspec": {
   "display_name": "Python 3",
   "language": "python",
   "name": "python3"
  },
  "language_info": {
   "codemirror_mode": {
    "name": "ipython",
    "version": 3
   },
   "file_extension": ".py",
   "mimetype": "text/x-python",
   "name": "python",
   "nbconvert_exporter": "python",
   "pygments_lexer": "ipython3",
   "version": "3.6.5"
  }
 },
 "nbformat": 4,
 "nbformat_minor": 2
}
