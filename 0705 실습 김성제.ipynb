{
 "cells": [
  {
   "cell_type": "markdown",
   "metadata": {},
   "source": [
    "# 1. Exercise 82: Taxi Fare"
   ]
  },
  {
   "cell_type": "code",
   "execution_count": 100,
   "metadata": {},
   "outputs": [],
   "source": [
    "def taxi_fare(kilo):\n",
    "    base_fare = 4.00\n",
    "    overfee = ((kilo*1000) // 140) * 0.25\n",
    "    return base_fare + overfee"
   ]
  },
  {
   "cell_type": "code",
   "execution_count": 101,
   "metadata": {},
   "outputs": [
    {
     "data": {
      "text/plain": [
       "6.5"
      ]
     },
     "execution_count": 101,
     "metadata": {},
     "output_type": "execute_result"
    }
   ],
   "source": [
    "taxi_fare(1.4)"
   ]
  },
  {
   "cell_type": "markdown",
   "metadata": {},
   "source": [
    "# 2. Exercise 84: Median of Three Valeus"
   ]
  },
  {
   "cell_type": "code",
   "execution_count": 51,
   "metadata": {},
   "outputs": [],
   "source": [
    "def three_nums(x, y, z):\n",
    "    li = sorted([x,y,z])\n",
    "    return li[1]"
   ]
  },
  {
   "cell_type": "code",
   "execution_count": 54,
   "metadata": {},
   "outputs": [
    {
     "data": {
      "text/plain": [
       "3"
      ]
     },
     "execution_count": 54,
     "metadata": {},
     "output_type": "execute_result"
    }
   ],
   "source": [
    "three_nums(3,9,1)"
   ]
  },
  {
   "cell_type": "markdown",
   "metadata": {},
   "source": [
    "# 3. Exercise 85: Convert an Integer to its Ordinal Number"
   ]
  },
  {
   "cell_type": "code",
   "execution_count": 102,
   "metadata": {},
   "outputs": [],
   "source": [
    "def int_to_ord(int_num):\n",
    "    li = ['first', 'second', 'third', 'forth', 'fifth', 'sixth', 'seventh','eighth', 'ninth', 'tenth', 'eleventh', 'douze']\n",
    "    if int_num < 13:\n",
    "        ordi = li[int_num-1]\n",
    "    else:\n",
    "        ordi = \"\"\n",
    "    return ordi"
   ]
  },
  {
   "cell_type": "code",
   "execution_count": 103,
   "metadata": {},
   "outputs": [
    {
     "data": {
      "text/plain": [
       "''"
      ]
     },
     "execution_count": 103,
     "metadata": {},
     "output_type": "execute_result"
    }
   ],
   "source": [
    "int_to_ord(13)"
   ]
  },
  {
   "cell_type": "markdown",
   "metadata": {},
   "source": [
    "# 4. Exercise 88: Is it a Valid Triangle?"
   ]
  },
  {
   "cell_type": "code",
   "execution_count": 74,
   "metadata": {},
   "outputs": [],
   "source": [
    "def bool_triangle(x,y,z):\n",
    "    li = sorted([x,y,z])\n",
    "    if li[0] + li[1] > li[2]:\n",
    "        msg = \"This is a Triangle\"\n",
    "    else:\n",
    "        msg = \"This is not a Triangle\"\n",
    "    return msg"
   ]
  },
  {
   "cell_type": "code",
   "execution_count": 79,
   "metadata": {},
   "outputs": [
    {
     "data": {
      "text/plain": [
       "'This is not a Triangle'"
      ]
     },
     "execution_count": 79,
     "metadata": {},
     "output_type": "execute_result"
    }
   ],
   "source": [
    "bool_triangle(2,2,6)"
   ]
  },
  {
   "cell_type": "markdown",
   "metadata": {},
   "source": [
    "# 5. Exercise 92: Is a Number Prime?"
   ]
  },
  {
   "cell_type": "code",
   "execution_count": 80,
   "metadata": {},
   "outputs": [],
   "source": [
    "def prime_num(num):\n",
    "    li = []\n",
    "    for i in range(1, num+1):\n",
    "        if num % i == 0:\n",
    "            li.append(i)\n",
    "    if len(li) == 2 or len(li) == 1:\n",
    "        result = True\n",
    "    else:\n",
    "        result = False\n",
    "    return result"
   ]
  },
  {
   "cell_type": "code",
   "execution_count": 91,
   "metadata": {},
   "outputs": [
    {
     "data": {
      "text/plain": [
       "True"
      ]
     },
     "execution_count": 91,
     "metadata": {},
     "output_type": "execute_result"
    }
   ],
   "source": [
    "prime_num(11)"
   ]
  },
  {
   "cell_type": "markdown",
   "metadata": {},
   "source": [
    "### 6. Exercise 86: The Twelve Days of Christmas (미완)"
   ]
  },
  {
   "cell_type": "markdown",
   "metadata": {},
   "source": [
    "### 7. Exercise 89: Capitalize It (미완)"
   ]
  },
  {
   "cell_type": "code",
   "execution_count": 118,
   "metadata": {},
   "outputs": [],
   "source": [
    "# 규칙 1: i가 하나있으면 대문자\n",
    "# 규칙 2: 첫번째는 대문자\n",
    "# 규칙 3: 특수문자 다음에는 대문자\n",
    "\n",
    "def cap(string):\n",
    "    li = []\n",
    "    li.extend(string)\n",
    "    string[0] = string[0].upper()\n",
    "    return li"
   ]
  },
  {
   "cell_type": "markdown",
   "metadata": {},
   "source": [
    "# 8. Exercise 90: Does a String Represent an Integer? "
   ]
  },
  {
   "cell_type": "code",
   "execution_count": 140,
   "metadata": {},
   "outputs": [
    {
     "data": {
      "text/plain": [
       "1"
      ]
     },
     "execution_count": 140,
     "metadata": {},
     "output_type": "execute_result"
    }
   ],
   "source": [
    "str.lstrip(\"   12323   \")\n",
    "str.rstrip(\"12312  \")\n",
    "str.strip(\" 12342342\")\n",
    "int(\"+1\")"
   ]
  },
  {
   "cell_type": "code",
   "execution_count": 143,
   "metadata": {},
   "outputs": [],
   "source": [
    "def isInteger_(string):\n",
    "    string = str.strip(string)\n",
    "    try:\n",
    "        int(string)\n",
    "        result = True\n",
    "    except:\n",
    "        result = False\n",
    "    return result"
   ]
  },
  {
   "cell_type": "code",
   "execution_count": 152,
   "metadata": {},
   "outputs": [
    {
     "data": {
      "text/plain": [
       "True"
      ]
     },
     "execution_count": 152,
     "metadata": {},
     "output_type": "execute_result"
    }
   ],
   "source": [
    "isInteger_(\"   +1222345    \")"
   ]
  },
  {
   "cell_type": "markdown",
   "metadata": {},
   "source": [
    "# 9. Exercise 93: Next Prime "
   ]
  },
  {
   "cell_type": "code",
   "execution_count": 155,
   "metadata": {},
   "outputs": [],
   "source": [
    "def next_prime(num):\n",
    "    while True:\n",
    "        num += 1\n",
    "        if prime_num(num) is True:\n",
    "            break\n",
    "    return num"
   ]
  },
  {
   "cell_type": "code",
   "execution_count": 160,
   "metadata": {},
   "outputs": [
    {
     "data": {
      "text/plain": [
       "17"
      ]
     },
     "execution_count": 160,
     "metadata": {},
     "output_type": "execute_result"
    }
   ],
   "source": [
    "next_prime(13)"
   ]
  },
  {
   "cell_type": "markdown",
   "metadata": {},
   "source": [
    "# 10. Exercise 96: Check a Password"
   ]
  },
  {
   "cell_type": "code",
   "execution_count": 188,
   "metadata": {},
   "outputs": [],
   "source": [
    "def check_pw(pw):\n",
    "    c1 = 0\n",
    "    c2 = 0\n",
    "    c3 = 0\n",
    "    c4 = 0\n",
    "    for i in pw:\n",
    "        if i.isupper() is True:\n",
    "            c1 += 1\n",
    "        if i.islower() is True:\n",
    "            c2 += 1\n",
    "        if i.isdecimal() is True:\n",
    "            c3 += 1\n",
    "        if len(pw) >= 8:\n",
    "            c4 += 1\n",
    "    \n",
    "    print(c1,c2,c3,c4)\n",
    "    if c1 > 0 and c2 > 0 and c3 > 0 and c4 > 0:\n",
    "        result = \"good\"\n",
    "    else:\n",
    "        result = \"false\"\n",
    "        \n",
    "    return result"
   ]
  },
  {
   "cell_type": "code",
   "execution_count": 193,
   "metadata": {},
   "outputs": [
    {
     "name": "stdout",
     "output_type": "stream",
     "text": [
      "1 1 7 9\n"
     ]
    },
    {
     "data": {
      "text/plain": [
       "'good'"
      ]
     },
     "execution_count": 193,
     "metadata": {},
     "output_type": "execute_result"
    }
   ],
   "source": [
    "check_pw(\"123R4444r\")"
   ]
  }
 ],
 "metadata": {
  "kernelspec": {
   "display_name": "Python 3",
   "language": "python",
   "name": "python3"
  },
  "language_info": {
   "codemirror_mode": {
    "name": "ipython",
    "version": 3
   },
   "file_extension": ".py",
   "mimetype": "text/x-python",
   "name": "python",
   "nbconvert_exporter": "python",
   "pygments_lexer": "ipython3",
   "version": "3.6.5"
  }
 },
 "nbformat": 4,
 "nbformat_minor": 2
}
